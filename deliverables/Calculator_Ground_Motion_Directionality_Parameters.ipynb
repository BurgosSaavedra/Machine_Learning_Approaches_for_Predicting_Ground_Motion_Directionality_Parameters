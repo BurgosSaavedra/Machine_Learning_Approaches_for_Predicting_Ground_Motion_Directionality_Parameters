{
 "cells": [
  {
   "cell_type": "markdown",
   "metadata": {},
   "source": [
    "# 1. Input the Log Period:"
   ]
  },
  {
   "cell_type": "code",
   "execution_count": 20,
   "metadata": {},
   "outputs": [],
   "source": [
    "Log_period = 0 # Log_period is the logarithm (base 10) of period"
   ]
  },
  {
   "cell_type": "markdown",
   "metadata": {},
   "source": [
    "# 2. Calculate the Ground Motion Directionality Parameters:"
   ]
  },
  {
   "cell_type": "code",
   "execution_count": 21,
   "metadata": {},
   "outputs": [
    {
     "data": {
      "text/html": [
       "<div>\n",
       "<style scoped>\n",
       "    .dataframe tbody tr th:only-of-type {\n",
       "        vertical-align: middle;\n",
       "    }\n",
       "\n",
       "    .dataframe tbody tr th {\n",
       "        vertical-align: top;\n",
       "    }\n",
       "\n",
       "    .dataframe thead th {\n",
       "        text-align: right;\n",
       "    }\n",
       "</style>\n",
       "<table border=\"1\" class=\"dataframe\">\n",
       "  <thead>\n",
       "    <tr style=\"text-align: right;\">\n",
       "      <th></th>\n",
       "      <th>Parameter</th>\n",
       "      <th>Value</th>\n",
       "    </tr>\n",
       "  </thead>\n",
       "  <tbody>\n",
       "    <tr>\n",
       "      <th>0</th>\n",
       "      <td>Log period</td>\n",
       "      <td>0.000000</td>\n",
       "    </tr>\n",
       "    <tr>\n",
       "      <th>1</th>\n",
       "      <td>Sa_RotD50_var</td>\n",
       "      <td>8.607488</td>\n",
       "    </tr>\n",
       "    <tr>\n",
       "      <th>2</th>\n",
       "      <td>Sa_RotD100_var</td>\n",
       "      <td>8.642056</td>\n",
       "    </tr>\n",
       "    <tr>\n",
       "      <th>3</th>\n",
       "      <td>Ratio_median</td>\n",
       "      <td>1.234637</td>\n",
       "    </tr>\n",
       "    <tr>\n",
       "      <th>4</th>\n",
       "      <td>Ratio_var</td>\n",
       "      <td>0.007137</td>\n",
       "    </tr>\n",
       "  </tbody>\n",
       "</table>\n",
       "</div>"
      ],
      "text/plain": [
       "        Parameter     Value\n",
       "0      Log period  0.000000\n",
       "1   Sa_RotD50_var  8.607488\n",
       "2  Sa_RotD100_var  8.642056\n",
       "3    Ratio_median  1.234637\n",
       "4       Ratio_var  0.007137"
      ]
     },
     "execution_count": 21,
     "metadata": {},
     "output_type": "execute_result"
    }
   ],
   "source": [
    "import pandas as pd\n",
    "import joblib\n",
    "\n",
    "model_name = 'Random_Forest'\n",
    "model_targets = ['Sa_RotD50_var', 'Sa_RotD100_var', 'Ratio_median', 'Ratio_var']\n",
    "\n",
    "results = {\"Parameter\": [\"Log period\"], \"Value\": [Log_period]}\n",
    "\n",
    "for model_target in model_targets:\n",
    "    # Load the model\n",
    "    best_model = joblib.load(f'../models/{model_name}_{model_target}.pkl')\n",
    "    \n",
    "    # Ensure Log_period is a DataFrame with a proper column name\n",
    "    feature_name = best_model.feature_names_in_[0]  # Get the expected feature name\n",
    "    Log_period_df = pd.DataFrame([[Log_period]], columns=[feature_name])  \n",
    "    \n",
    "    # Predict\n",
    "    predicted_parameter = best_model.predict(Log_period_df)\n",
    "    \n",
    "    results[\"Parameter\"].append(model_target)\n",
    "    results[\"Value\"].append(predicted_parameter[0])  # Extract scalar value\n",
    "\n",
    "# Convert results to a DataFrame\n",
    "result_df = pd.DataFrame(data=results)\n",
    "result_df\n"
   ]
  }
 ],
 "metadata": {
  "kernelspec": {
   "display_name": "env_ds_conda",
   "language": "python",
   "name": "python3"
  },
  "language_info": {
   "codemirror_mode": {
    "name": "ipython",
    "version": 3
   },
   "file_extension": ".py",
   "mimetype": "text/x-python",
   "name": "python",
   "nbconvert_exporter": "python",
   "pygments_lexer": "ipython3",
   "version": "3.13.0"
  }
 },
 "nbformat": 4,
 "nbformat_minor": 2
}
