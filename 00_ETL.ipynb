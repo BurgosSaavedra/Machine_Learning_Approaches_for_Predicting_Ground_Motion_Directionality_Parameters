{
 "cells": [
  {
   "cell_type": "markdown",
   "metadata": {
    "id": "NPNjWekS-d24"
   },
   "source": [
    "# 0. Libraries"
   ]
  },
  {
   "cell_type": "code",
   "execution_count": 48,
   "metadata": {
    "executionInfo": {
     "elapsed": 110,
     "status": "ok",
     "timestamp": 1732348834822,
     "user": {
      "displayName": "Victor Hugo Calderon Astuhuaman",
      "userId": "15468350708425672739"
     },
     "user_tz": 480
    },
    "id": "aSDmnsPv-d27"
   },
   "outputs": [],
   "source": [
    "import scipy.io\n",
    "from scipy.io import loadmat\n",
    "import numpy as np\n",
    "import matplotlib.pyplot as plt\n",
    "import pandas as pd"
   ]
  },
  {
   "cell_type": "code",
   "execution_count": 49,
   "metadata": {},
   "outputs": [],
   "source": [
    "import scienceplots"
   ]
  },
  {
   "cell_type": "markdown",
   "metadata": {
    "id": "aJBUrQIC-d29"
   },
   "source": [
    "# 1. Extract"
   ]
  },
  {
   "cell_type": "code",
   "execution_count": 50,
   "metadata": {
    "executionInfo": {
     "elapsed": 2210,
     "status": "ok",
     "timestamp": 1732348906675,
     "user": {
      "displayName": "Victor Hugo Calderon Astuhuaman",
      "userId": "15468350708425672739"
     },
     "user_tz": 480
    },
    "id": "eyo5wqIn-d29"
   },
   "outputs": [],
   "source": [
    "# Load the .mat file\n",
    "mat_data = loadmat('NGA_W2_corr_meta_data.mat')"
   ]
  },
  {
   "cell_type": "markdown",
   "metadata": {
    "id": "3fbBRlsP-d2-"
   },
   "source": [
    "# 2. Transform"
   ]
  },
  {
   "cell_type": "code",
   "execution_count": 51,
   "metadata": {
    "executionInfo": {
     "elapsed": 5437,
     "status": "ok",
     "timestamp": 1732348927633,
     "user": {
      "displayName": "Victor Hugo Calderon Astuhuaman",
      "userId": "15468350708425672739"
     },
     "user_tz": 480
    },
    "id": "QsgSrzOS-d2-"
   },
   "outputs": [
    {
     "name": "stdout",
     "output_type": "stream",
     "text": [
      "Sa_RotD100: [[1.762011e-01 1.784339e-01 1.807870e-01 ... 8.313637e-04 7.273380e-04\n",
      "  4.146704e-04]\n",
      " [5.381928e-02 5.627734e-02 5.606911e-02 ... 1.051040e-05 9.119646e-06\n",
      "  5.067681e-06]\n",
      " [4.558242e-02 4.590505e-02 4.599739e-02 ... 1.050110e-04 9.222933e-05\n",
      "  5.536199e-05]\n",
      " ...\n",
      " [6.769351e-04 6.661694e-04 6.705823e-04 ... 2.434844e-07 2.130040e-07\n",
      "  1.174579e-07]\n",
      " [3.705074e-03 3.750760e-03 3.771360e-03 ... 6.467141e-07 5.651588e-07\n",
      "  3.095832e-07]\n",
      " [2.131170e-03 2.097414e-03 2.103398e-03 ... 5.493273e-07 4.860101e-07\n",
      "  2.845914e-07]]\n",
      "Sa_RotD50: [[1.619342e-01 1.639006e-01 1.651172e-01 ... 5.907200e-04 5.168520e-04\n",
      "  2.947800e-04]\n",
      " [4.751961e-02 4.916894e-02 4.914828e-02 ... 7.514000e-06 6.519800e-06\n",
      "  3.622870e-06]\n",
      " [4.099701e-02 4.118426e-02 4.123356e-02 ... 8.767750e-05 7.710520e-05\n",
      "  4.424700e-05]\n",
      " ...\n",
      " [5.054930e-04 4.995341e-04 5.003494e-04 ... 2.108207e-07 1.832552e-07\n",
      "  1.013207e-07]\n",
      " [3.058198e-03 3.058668e-03 3.073464e-03 ... 5.369460e-07 4.686200e-07\n",
      "  2.628650e-07]\n",
      " [1.619504e-03 1.614069e-03 1.644838e-03 ... 4.423518e-07 3.922899e-07\n",
      "  2.341000e-07]]\n",
      "closest_D: [[ 2.86]\n",
      " [ 2.92]\n",
      " [71.57]\n",
      " ...\n",
      " [51.36]\n",
      " [39.13]\n",
      " [19.44]]\n",
      "magnitude: [[6. ]\n",
      " [6. ]\n",
      " [5.8]\n",
      " ...\n",
      " [3.6]\n",
      " [3.6]\n",
      " [3.6]]\n",
      "soil_Vs30: [[593.35]\n",
      " [551.82]\n",
      " [219.31]\n",
      " ...\n",
      " [432.  ]\n",
      " [535.12]\n",
      " [655.67]]\n",
      "lowest_usable_freq: [[0.1625   ]\n",
      " [0.5      ]\n",
      " [0.375    ]\n",
      " ...\n",
      " [0.6443497]\n",
      " [0.6278709]\n",
      " [0.5242673]]\n",
      "Rows to delete for Sa_RotD100: [28, 167, 176, 188, 259, 266, 360, 364, 377, 472, 473, 474, 499, 585, 587, 659, 804, 828, 830, 993, 1008, 1009, 1067, 1080, 1170, 1177, 1178, 1250, 1251, 1252, 1253, 1254, 1297, 1305, 1399, 1400, 1402, 1404, 1406, 1407, 1460, 1461, 1555, 1594, 1595, 1596, 1624, 1634, 1752, 1777, 1795, 1797, 1814, 1838, 2009, 2135, 2261, 2288, 2555, 2801, 3040, 3363, 3548, 3549, 3550, 3568, 3754, 3760, 3761, 3762, 4272, 4318, 4321, 4323, 4404, 4483, 4613, 4896, 4897, 4898, 6077, 6078, 6079, 6080, 6081, 6082, 6083, 6879, 6882, 6917, 8395, 8435, 8437, 8577, 8922, 8923, 8927, 8938, 8941, 8944, 8958, 8960, 8961, 9057, 9470, 9638, 9641, 9644, 9646, 9648, 10655, 10658, 10749, 10853, 10890, 10893, 10898, 11056, 11141, 11260, 11261, 11292, 11321, 11553, 11557, 11695, 11710, 11742, 12024, 12028, 12242, 12246, 12249, 12326, 12330, 12367, 12558, 12581, 12660, 12661, 12822, 12833, 13057, 13086, 13096, 13196, 13359, 13567, 13800, 13801, 13805, 13866, 13966, 14006, 14104, 14163, 14422, 14557, 14747, 15004, 15041, 15089, 15090, 15091, 15294, 15311, 15470, 15472, 15474, 15475, 15477, 15512, 15592, 15659, 15971, 15978, 16631, 16683, 17001, 17007, 17035, 17071, 17124, 17274, 17343, 17439, 17468, 17557, 17604, 17627, 17649, 17714, 17789, 17834, 18163, 18289, 19382, 19672, 19920, 19921, 19922, 19923, 19924, 19925]\n",
      "Rows to delete for Sa_RotD50: [28, 167, 176, 188, 259, 266, 360, 364, 377, 472, 473, 474, 499, 585, 587, 659, 804, 828, 830, 993, 1008, 1009, 1067, 1080, 1170, 1177, 1178, 1250, 1251, 1252, 1253, 1254, 1297, 1305, 1399, 1400, 1402, 1404, 1406, 1407, 1460, 1461, 1555, 1594, 1595, 1596, 1624, 1634, 1752, 1777, 1795, 1797, 1814, 1838, 2009, 2135, 2261, 2288, 2555, 2801, 3040, 3363, 3548, 3549, 3550, 3568, 3754, 3760, 3761, 3762, 4272, 4318, 4321, 4323, 4404, 4483, 4613, 4896, 4897, 4898, 6077, 6078, 6079, 6080, 6081, 6082, 6083, 6879, 6882, 6917, 8395, 8435, 8437, 8577, 8922, 8923, 8927, 8938, 8941, 8944, 8958, 8960, 8961, 9057, 9470, 9638, 9641, 9644, 9646, 9648, 10655, 10658, 10749, 10853, 10890, 10893, 10898, 11056, 11141, 11260, 11261, 11292, 11321, 11553, 11557, 11695, 11710, 11742, 12024, 12028, 12242, 12246, 12249, 12326, 12330, 12367, 12558, 12581, 12660, 12661, 12822, 12833, 13057, 13086, 13096, 13196, 13359, 13567, 13800, 13801, 13805, 13866, 13966, 14006, 14104, 14163, 14422, 14557, 14747, 15004, 15041, 15089, 15090, 15091, 15294, 15311, 15470, 15472, 15474, 15475, 15477, 15512, 15592, 15659, 15971, 15978, 16631, 16683, 17001, 17007, 17035, 17071, 17124, 17274, 17343, 17439, 17468, 17557, 17604, 17627, 17649, 17714, 17789, 17834, 18163, 18289, 19382, 19672, 19920, 19921, 19922, 19923, 19924, 19925]\n",
      "Rows to delete for closest_D: [1596, 4272, 4285, 4286, 4289, 4291, 4292, 4293, 4299, 4308, 4309, 4310, 4318, 4321, 4323, 4324, 4325, 4326, 4381, 4417, 4418, 4419, 4420, 4421, 4422, 4424, 4432, 4438, 4439, 4440, 4441, 4442, 4443, 4444, 4445, 4446, 4448, 4449, 6066, 6067, 9646, 10890, 11325, 12032, 14104, 18163]\n",
      "Rows to delete for magnitude: [1596, 4272, 4299, 4318, 4321, 4323, 6066, 6067, 9646, 10890, 14104, 18163]\n",
      "Rows to delete for soil_Vs30: [462, 464, 465, 466, 497, 499, 1596, 3760, 3761, 3762, 4318, 4321, 4323, 4442, 4896, 4897, 4898, 6066, 6067, 8552, 10890, 11325, 12032, 14104, 18163]\n",
      "Rows to delete for lowest_usable_freq: [259, 526, 637, 878, 993, 1008, 1009, 1067, 1080, 1120, 1324, 1517, 1596, 1624, 1626, 1758, 1759, 1776, 1777, 1778, 1780, 1781, 1795, 1797, 1808, 1810, 1811, 1812, 1814, 1815, 1823, 1826, 1827, 1838, 2009, 2288, 2905, 2906, 2907, 3548, 3549, 3550, 3743, 3754, 4015, 4078, 4149, 4272, 4318, 4340, 4344, 4377, 4385, 6066, 6067, 7794, 8089, 8163, 8509, 9646, 10890, 14104, 18163, 21470]\n",
      "Shape of Sa_RotD100: (21255, 111)\n",
      "Shape of Sa_RotD50: (21255, 111)\n",
      "Shape of closest_D: (21255, 1)\n",
      "Shape of magnitude: (21255, 1)\n",
      "Shape of soil_Vs30: (21255, 1)\n",
      "Shape of lowest_usable_freq: (21255, 1)\n",
      "Shape of Sa_RotD100: (21235, 111)\n",
      "Shape of Sa_RotD50: (21235, 111)\n",
      "Shape of closest_D: (21235, 1)\n",
      "Shape of magnitude: (21235, 1)\n",
      "Shape of soil_Vs30: (21235, 1)\n",
      "Shape of lowest_usable_freq: (21235, 1)\n",
      "Shape of Sa_RotD100: (17716, 105)\n",
      "Shape of Sa_RotD50: (17716, 105)\n",
      "Shape of closest_D: (17716, 1)\n",
      "Shape of magnitude: (17716, 1)\n",
      "Shape of soil_Vs30: (17716, 1)\n",
      "Shape of lowest_usable_freq: (17716, 1)\n"
     ]
    }
   ],
   "source": [
    "# Display the structure of the loaded data\n",
    "variables_to_extract = ['Sa_RotD100', 'Sa_RotD50', 'closest_D', 'magnitude', 'soil_Vs30','lowest_usable_freq']\n",
    "extracted_data = {}\n",
    "Periods = mat_data['Periods']\n",
    "Periods_orig = Periods.copy()\n",
    "\n",
    "# Get index when Periods 10 s, where size (1,111)\n",
    "idx_10s = np.where(Periods == 10)[1][0]\n",
    "Periods = Periods[0][0:idx_10s+1] # Effective periods, size (1, 101)\n",
    "\n",
    "# Loop through each variable and check if it exists in the .mat file\n",
    "for var in variables_to_extract:\n",
    "    if var in mat_data:\n",
    "        extracted_data[var] = mat_data[var]\n",
    "        print(f\"{var}:\", extracted_data[var])\n",
    "    else:\n",
    "        print(f\"Variable '{var}' not found in the .mat file.\")\n",
    "        \n",
    "# Create rsn variable that counts the number of rows in the extracted data\n",
    "extracted_data_original = extracted_data.copy()\n",
    "rsn= extracted_data['Sa_RotD100'].shape[0]\n",
    "rsn_list = np.arange(1, rsn + 1)\n",
    "\n",
    "# Check extracted data and delete rows with NaN and -999 values except, have to do this at the same time for all variables\n",
    "# For each variable, accumulate the rows with NaN and -999 values and then create a unique list of rows to delete\n",
    "unique_rows_to_delete = []\n",
    "for var in extracted_data:\n",
    "    rows_to_delete = []\n",
    "    for i in range(rsn):\n",
    "        if np.any(np.isnan(extracted_data[var][i])) or np.any(extracted_data[var][i] == -999) or np.any(extracted_data[var][i] == 0):\n",
    "            rows_to_delete.append(i)\n",
    "    unique_rows_to_delete = np.unique(np.concatenate((unique_rows_to_delete, rows_to_delete)))\n",
    "    print(f\"Rows to delete for {var}:\", rows_to_delete)\n",
    "\n",
    "unique_rows_to_delete = unique_rows_to_delete.astype(int)\n",
    "\n",
    "# Delete the rows with NaN and -999 values for all variables\n",
    "for var in extracted_data:\n",
    "    extracted_data[var] = np.delete(extracted_data[var], unique_rows_to_delete, axis=0)\n",
    "    print(f\"Shape of {var}:\", extracted_data[var].shape)\n",
    "rsn_list = np.delete(rsn_list, unique_rows_to_delete, axis=0)\n",
    "\n",
    "# Compute ratio of Sa_RotD100/Sa_RotD50 for each rsn (row) and column\n",
    "Sa_RotD100 = extracted_data['Sa_RotD100']\n",
    "Sa_RotD50 = extracted_data['Sa_RotD50']\n",
    "ratio_rotd = np.zeros((rsn_list.shape[0], Sa_RotD100.shape[1]))\n",
    "for i in range(rsn_list.shape[0]):\n",
    "    for j in range(Sa_RotD100.shape[1]):\n",
    "        ratio_rotd[i,j] = Sa_RotD100[i, j] / Sa_RotD50[i, j]\n",
    "        \n",
    "# Identify those rows with ratio of Sa_RotD100/Sa_RotD50 > 1.415 = sqrt(2) and Sa_RotD100/Sa_RotD50 < 1, give them in rsn values - by definition\n",
    "rsn_out_threshold = []\n",
    "i_delete = []\n",
    "for i in range(ratio_rotd.shape[0]):\n",
    "    if np.any(ratio_rotd[i, :] > 1.415) or np.any(ratio_rotd[i, :] < 1):\n",
    "        rsn_out_threshold.append(rsn_list[i])\n",
    "        i_delete.append(i)\n",
    "\n",
    "for var in extracted_data:\n",
    "    extracted_data[var] = np.delete(extracted_data[var], i_delete, axis=0)\n",
    "    print(f\"Shape of {var}:\", extracted_data[var].shape)\n",
    "rsn_list = np.delete(rsn_list, i_delete, axis=0)\n",
    "\n",
    "# Identify those rows with closest_D > 200 km and delete them\n",
    "rsn_out_distance = []\n",
    "i_delete = []\n",
    "for i in range(extracted_data['closest_D'].shape[0]):\n",
    "    if extracted_data['closest_D'][i] > 200:\n",
    "        rsn_out_distance.append(rsn_list[i])\n",
    "        i_delete.append(i)\n",
    "\n",
    "for var in extracted_data:\n",
    "    extracted_data[var] = np.delete(extracted_data[var], i_delete, axis=0)\n",
    "rsn_list = np.delete(rsn_list, i_delete, axis=0)\n",
    "\n",
    "# Reduce the number of columns to 101 period, from 0 to 10 s\n",
    "for var in extracted_data:\n",
    "    extracted_data[var] = extracted_data[var][:, 0:idx_10s+1]\n",
    "    print(f\"Shape of {var}:\", extracted_data[var].shape)\n"
   ]
  },
  {
   "cell_type": "code",
   "execution_count": 52,
   "metadata": {},
   "outputs": [
    {
     "data": {
      "text/plain": [
       "\"\\nrsn_out_freq = []\\ni_delete = []\\nfor i in range(extracted_data['lowest_usable_freq'].shape[0]):\\n    if extracted_data['lowest_usable_freq'][i] > 0.1:\\n        rsn_out_freq.append(rsn_list[i])\\n        i_delete.append(i)\\n        \\nfor var in extracted_data:\\n    extracted_data[var] = np.delete(extracted_data[var], i_delete, axis=0)\\nrsn_list = np.delete(rsn_list, i_delete, axis=0)\\n\""
      ]
     },
     "execution_count": 52,
     "metadata": {},
     "output_type": "execute_result"
    }
   ],
   "source": [
    "# Identify those rows with lowest_usable_freq > 0.1 Hz and fill their columns with NaN for periods > 1/lowest_usable_freq\n",
    "rsn_out_freq = []\n",
    "i_delete = []\n",
    "for i in range(extracted_data['lowest_usable_freq'].shape[0]):\n",
    "    if extracted_data['lowest_usable_freq'][i] > 0.1:\n",
    "        period_luf = 1 / extracted_data['lowest_usable_freq'][i]\n",
    "        # Find period index near lower to 1/lowest_usable_freq\n",
    "        lower_values = Periods[Periods < period_luf]\n",
    "        if lower_values.size > 0:\n",
    "            closest_period = lower_values[np.argmax(lower_values)]\n",
    "            idx_closest_period = np.where(Periods == closest_period)[0][0]\n",
    "            extracted_data['Sa_RotD100'][i, idx_closest_period+1:] = np.nan\n",
    "            extracted_data['Sa_RotD50'][i, idx_closest_period+1:] = np.nan\n",
    "        else:\n",
    "            print(f\"Periods less than {period_luf} not found.\")\n",
    "\n",
    "\"\"\"\n",
    "rsn_out_freq = []\n",
    "i_delete = []\n",
    "for i in range(extracted_data['lowest_usable_freq'].shape[0]):\n",
    "    if extracted_data['lowest_usable_freq'][i] > 0.1:\n",
    "        rsn_out_freq.append(rsn_list[i])\n",
    "        i_delete.append(i)\n",
    "        \n",
    "for var in extracted_data:\n",
    "    extracted_data[var] = np.delete(extracted_data[var], i_delete, axis=0)\n",
    "rsn_list = np.delete(rsn_list, i_delete, axis=0)\n",
    "\"\"\"\n"
   ]
  },
  {
   "cell_type": "code",
   "execution_count": 53,
   "metadata": {},
   "outputs": [],
   "source": [
    "# Compute ratio of Sa_RotD100/Sa_RotD50 for each rsn (row) and only for columns with no NaN values\n",
    "Sa_RotD100 = extracted_data['Sa_RotD100']\n",
    "Sa_RotD50 = extracted_data['Sa_RotD50']\n",
    "ratio_rotd = np.zeros((rsn_list.shape[0], Sa_RotD100.shape[1]))\n",
    "for i in range(rsn_list.shape[0]):\n",
    "    for j in range(Sa_RotD100.shape[1]):\n",
    "        if not np.isnan(Sa_RotD100[i, j]) and not np.isnan(Sa_RotD50[i, j]):\n",
    "            ratio_rotd[i,j] = Sa_RotD100[i, j] / Sa_RotD50[i, j]\n",
    "        else:\n",
    "            ratio_rotd[i,j] = np.nan"
   ]
  },
  {
   "cell_type": "code",
   "execution_count": 54,
   "metadata": {
    "colab": {
     "base_uri": "https://localhost:8080/"
    },
    "executionInfo": {
     "elapsed": 118,
     "status": "ok",
     "timestamp": 1732348948139,
     "user": {
      "displayName": "Victor Hugo Calderon Astuhuaman",
      "userId": "15468350708425672739"
     },
     "user_tz": 480
    },
    "id": "LHdcGdm9-d2_",
    "outputId": "9ac32a86-f14c-4b99-cba7-f1b2456990ed"
   },
   "outputs": [
    {
     "data": {
      "text/plain": [
       "(105,)"
      ]
     },
     "execution_count": 54,
     "metadata": {},
     "output_type": "execute_result"
    }
   ],
   "source": [
    "Periods.shape"
   ]
  },
  {
   "cell_type": "code",
   "execution_count": 55,
   "metadata": {
    "colab": {
     "base_uri": "https://localhost:8080/"
    },
    "executionInfo": {
     "elapsed": 107,
     "status": "ok",
     "timestamp": 1732348948993,
     "user": {
      "displayName": "Victor Hugo Calderon Astuhuaman",
      "userId": "15468350708425672739"
     },
     "user_tz": 480
    },
    "id": "kzsFW_vs-d3A",
    "outputId": "6d1210ff-e7bd-4577-9f84-424a99b79788"
   },
   "outputs": [
    {
     "data": {
      "text/plain": [
       "(17716,)"
      ]
     },
     "execution_count": 55,
     "metadata": {},
     "output_type": "execute_result"
    }
   ],
   "source": [
    "# Analyze rsn_list\n",
    "rsn_list.shape"
   ]
  },
  {
   "cell_type": "code",
   "execution_count": 56,
   "metadata": {
    "colab": {
     "base_uri": "https://localhost:8080/"
    },
    "executionInfo": {
     "elapsed": 119,
     "status": "ok",
     "timestamp": 1732348950187,
     "user": {
      "displayName": "Victor Hugo Calderon Astuhuaman",
      "userId": "15468350708425672739"
     },
     "user_tz": 480
    },
    "id": "K_6wFxzs-d3A",
    "outputId": "4e2729ea-cf86-459e-d042-91ca4f36d531"
   },
   "outputs": [
    {
     "data": {
      "text/plain": [
       "array([    1,     2,     3, ..., 21537, 21538, 21539])"
      ]
     },
     "execution_count": 56,
     "metadata": {},
     "output_type": "execute_result"
    }
   ],
   "source": [
    "rsn_list"
   ]
  },
  {
   "cell_type": "code",
   "execution_count": 57,
   "metadata": {
    "colab": {
     "base_uri": "https://localhost:8080/"
    },
    "executionInfo": {
     "elapsed": 101,
     "status": "ok",
     "timestamp": 1732348951314,
     "user": {
      "displayName": "Victor Hugo Calderon Astuhuaman",
      "userId": "15468350708425672739"
     },
     "user_tz": 480
    },
    "id": "MBil2koL-d3A",
    "outputId": "29d09cc7-8453-4587-d3c6-3709884d51df"
   },
   "outputs": [
    {
     "data": {
      "text/plain": [
       "{'Sa_RotD100': array([[0.1762011 , 0.1784339 , 0.180787  , ...,        nan,        nan,\n",
       "                nan],\n",
       "        [0.05381928, 0.05627734, 0.05606911, ...,        nan,        nan,\n",
       "                nan],\n",
       "        [0.04558242, 0.04590505, 0.04599739, ...,        nan,        nan,\n",
       "                nan],\n",
       "        ...,\n",
       "        [0.00067694, 0.00066617, 0.00067058, ...,        nan,        nan,\n",
       "                nan],\n",
       "        [0.00370507, 0.00375076, 0.00377136, ...,        nan,        nan,\n",
       "                nan],\n",
       "        [0.00213117, 0.00209741, 0.0021034 , ...,        nan,        nan,\n",
       "                nan]]),\n",
       " 'Sa_RotD50': array([[0.1619342 , 0.1639006 , 0.1651172 , ...,        nan,        nan,\n",
       "                nan],\n",
       "        [0.04751961, 0.04916894, 0.04914828, ...,        nan,        nan,\n",
       "                nan],\n",
       "        [0.04099701, 0.04118426, 0.04123356, ...,        nan,        nan,\n",
       "                nan],\n",
       "        ...,\n",
       "        [0.00050549, 0.00049953, 0.00050035, ...,        nan,        nan,\n",
       "                nan],\n",
       "        [0.0030582 , 0.00305867, 0.00307346, ...,        nan,        nan,\n",
       "                nan],\n",
       "        [0.0016195 , 0.00161407, 0.00164484, ...,        nan,        nan,\n",
       "                nan]]),\n",
       " 'closest_D': array([[ 2.86],\n",
       "        [ 2.92],\n",
       "        [71.57],\n",
       "        ...,\n",
       "        [51.36],\n",
       "        [39.13],\n",
       "        [19.44]]),\n",
       " 'magnitude': array([[6. ],\n",
       "        [6. ],\n",
       "        [5.8],\n",
       "        ...,\n",
       "        [3.6],\n",
       "        [3.6],\n",
       "        [3.6]]),\n",
       " 'soil_Vs30': array([[593.35],\n",
       "        [551.82],\n",
       "        [219.31],\n",
       "        ...,\n",
       "        [432.  ],\n",
       "        [535.12],\n",
       "        [655.67]]),\n",
       " 'lowest_usable_freq': array([[0.1625   ],\n",
       "        [0.5      ],\n",
       "        [0.375    ],\n",
       "        ...,\n",
       "        [0.6443497],\n",
       "        [0.6278709],\n",
       "        [0.5242673]])}"
      ]
     },
     "execution_count": 57,
     "metadata": {},
     "output_type": "execute_result"
    }
   ],
   "source": [
    "# Analyze extracted_data\n",
    "extracted_data"
   ]
  },
  {
   "cell_type": "code",
   "execution_count": 58,
   "metadata": {
    "colab": {
     "base_uri": "https://localhost:8080/"
    },
    "executionInfo": {
     "elapsed": 107,
     "status": "ok",
     "timestamp": 1732348953684,
     "user": {
      "displayName": "Victor Hugo Calderon Astuhuaman",
      "userId": "15468350708425672739"
     },
     "user_tz": 480
    },
    "id": "-WRE-rcK-d3B",
    "outputId": "45aa9d65-c55d-4c06-ca5b-05a1997a0014"
   },
   "outputs": [
    {
     "data": {
      "text/plain": [
       "(17716, 105)"
      ]
     },
     "execution_count": 58,
     "metadata": {},
     "output_type": "execute_result"
    }
   ],
   "source": [
    "# analyze Sa_RotD100\n",
    "extracted_data[\"Sa_RotD100\"].shape"
   ]
  },
  {
   "cell_type": "code",
   "execution_count": 59,
   "metadata": {
    "colab": {
     "base_uri": "https://localhost:8080/"
    },
    "executionInfo": {
     "elapsed": 101,
     "status": "ok",
     "timestamp": 1732348954567,
     "user": {
      "displayName": "Victor Hugo Calderon Astuhuaman",
      "userId": "15468350708425672739"
     },
     "user_tz": 480
    },
    "id": "v5s6_sfL-d3B",
    "outputId": "a2d52300-bb1b-4243-d280-f0e73adb1c9e"
   },
   "outputs": [
    {
     "data": {
      "text/plain": [
       "(17716, 105)"
      ]
     },
     "execution_count": 59,
     "metadata": {},
     "output_type": "execute_result"
    }
   ],
   "source": [
    "# analyze Sa_RotD50\n",
    "extracted_data[\"Sa_RotD50\"].shape"
   ]
  },
  {
   "cell_type": "code",
   "execution_count": 60,
   "metadata": {
    "colab": {
     "base_uri": "https://localhost:8080/"
    },
    "executionInfo": {
     "elapsed": 100,
     "status": "ok",
     "timestamp": 1732348955632,
     "user": {
      "displayName": "Victor Hugo Calderon Astuhuaman",
      "userId": "15468350708425672739"
     },
     "user_tz": 480
    },
    "id": "xBx6-JCS-d3B",
    "outputId": "efd46b44-b911-43c1-812d-2498506aa521"
   },
   "outputs": [
    {
     "data": {
      "text/plain": [
       "(17716, 1)"
      ]
     },
     "execution_count": 60,
     "metadata": {},
     "output_type": "execute_result"
    }
   ],
   "source": [
    "# analyze magnitude\n",
    "extracted_data[\"magnitude\"].shape"
   ]
  },
  {
   "cell_type": "code",
   "execution_count": 61,
   "metadata": {
    "colab": {
     "base_uri": "https://localhost:8080/",
     "height": 443
    },
    "executionInfo": {
     "elapsed": 270,
     "status": "ok",
     "timestamp": 1732348956995,
     "user": {
      "displayName": "Victor Hugo Calderon Astuhuaman",
      "userId": "15468350708425672739"
     },
     "user_tz": 480
    },
    "id": "puFyU20a-d3B",
    "outputId": "b83687b4-1a2a-4fcf-fb2c-3ea6fb4f8677"
   },
   "outputs": [
    {
     "data": {
      "text/html": [
       "<div>\n",
       "<style scoped>\n",
       "    .dataframe tbody tr th:only-of-type {\n",
       "        vertical-align: middle;\n",
       "    }\n",
       "\n",
       "    .dataframe tbody tr th {\n",
       "        vertical-align: top;\n",
       "    }\n",
       "\n",
       "    .dataframe thead th {\n",
       "        text-align: right;\n",
       "    }\n",
       "</style>\n",
       "<table border=\"1\" class=\"dataframe\">\n",
       "  <thead>\n",
       "    <tr style=\"text-align: right;\">\n",
       "      <th></th>\n",
       "      <th>Sa_RotD100_T1</th>\n",
       "      <th>Sa_RotD100_T2</th>\n",
       "      <th>Sa_RotD100_T3</th>\n",
       "      <th>Sa_RotD100_T4</th>\n",
       "      <th>Sa_RotD100_T5</th>\n",
       "      <th>Sa_RotD100_T6</th>\n",
       "      <th>Sa_RotD100_T7</th>\n",
       "      <th>Sa_RotD100_T8</th>\n",
       "      <th>Sa_RotD100_T9</th>\n",
       "      <th>Sa_RotD100_T10</th>\n",
       "      <th>...</th>\n",
       "      <th>Sa_RotD50_T100</th>\n",
       "      <th>Sa_RotD50_T101</th>\n",
       "      <th>Sa_RotD50_T102</th>\n",
       "      <th>Sa_RotD50_T103</th>\n",
       "      <th>Sa_RotD50_T104</th>\n",
       "      <th>Sa_RotD50_T105</th>\n",
       "      <th>closest_D</th>\n",
       "      <th>magnitude</th>\n",
       "      <th>soil_Vs30</th>\n",
       "      <th>lowest_usable_freq_T1</th>\n",
       "    </tr>\n",
       "  </thead>\n",
       "  <tbody>\n",
       "    <tr>\n",
       "      <th>0</th>\n",
       "      <td>0.176201</td>\n",
       "      <td>0.178434</td>\n",
       "      <td>0.180787</td>\n",
       "      <td>0.183714</td>\n",
       "      <td>0.190016</td>\n",
       "      <td>0.193431</td>\n",
       "      <td>0.202666</td>\n",
       "      <td>0.222450</td>\n",
       "      <td>0.228174</td>\n",
       "      <td>0.247553</td>\n",
       "      <td>...</td>\n",
       "      <td>NaN</td>\n",
       "      <td>NaN</td>\n",
       "      <td>NaN</td>\n",
       "      <td>NaN</td>\n",
       "      <td>NaN</td>\n",
       "      <td>NaN</td>\n",
       "      <td>2.86</td>\n",
       "      <td>6.0</td>\n",
       "      <td>593.35</td>\n",
       "      <td>0.162500</td>\n",
       "    </tr>\n",
       "    <tr>\n",
       "      <th>1</th>\n",
       "      <td>0.053819</td>\n",
       "      <td>0.056277</td>\n",
       "      <td>0.056069</td>\n",
       "      <td>0.057316</td>\n",
       "      <td>0.064570</td>\n",
       "      <td>0.065244</td>\n",
       "      <td>0.069159</td>\n",
       "      <td>0.070873</td>\n",
       "      <td>0.071708</td>\n",
       "      <td>0.080807</td>\n",
       "      <td>...</td>\n",
       "      <td>NaN</td>\n",
       "      <td>NaN</td>\n",
       "      <td>NaN</td>\n",
       "      <td>NaN</td>\n",
       "      <td>NaN</td>\n",
       "      <td>NaN</td>\n",
       "      <td>2.92</td>\n",
       "      <td>6.0</td>\n",
       "      <td>551.82</td>\n",
       "      <td>0.500000</td>\n",
       "    </tr>\n",
       "    <tr>\n",
       "      <th>2</th>\n",
       "      <td>0.045582</td>\n",
       "      <td>0.045905</td>\n",
       "      <td>0.045997</td>\n",
       "      <td>0.046184</td>\n",
       "      <td>0.046646</td>\n",
       "      <td>0.046720</td>\n",
       "      <td>0.046911</td>\n",
       "      <td>0.046695</td>\n",
       "      <td>0.046636</td>\n",
       "      <td>0.046241</td>\n",
       "      <td>...</td>\n",
       "      <td>NaN</td>\n",
       "      <td>NaN</td>\n",
       "      <td>NaN</td>\n",
       "      <td>NaN</td>\n",
       "      <td>NaN</td>\n",
       "      <td>NaN</td>\n",
       "      <td>71.57</td>\n",
       "      <td>5.8</td>\n",
       "      <td>219.31</td>\n",
       "      <td>0.375000</td>\n",
       "    </tr>\n",
       "    <tr>\n",
       "      <th>3</th>\n",
       "      <td>0.021930</td>\n",
       "      <td>0.022245</td>\n",
       "      <td>0.022351</td>\n",
       "      <td>0.022733</td>\n",
       "      <td>0.023042</td>\n",
       "      <td>0.023228</td>\n",
       "      <td>0.023367</td>\n",
       "      <td>0.023635</td>\n",
       "      <td>0.023407</td>\n",
       "      <td>0.025159</td>\n",
       "      <td>...</td>\n",
       "      <td>NaN</td>\n",
       "      <td>NaN</td>\n",
       "      <td>NaN</td>\n",
       "      <td>NaN</td>\n",
       "      <td>NaN</td>\n",
       "      <td>NaN</td>\n",
       "      <td>34.98</td>\n",
       "      <td>5.0</td>\n",
       "      <td>213.44</td>\n",
       "      <td>0.875000</td>\n",
       "    </tr>\n",
       "    <tr>\n",
       "      <th>4</th>\n",
       "      <td>0.165307</td>\n",
       "      <td>0.167300</td>\n",
       "      <td>0.168709</td>\n",
       "      <td>0.169770</td>\n",
       "      <td>0.169003</td>\n",
       "      <td>0.170108</td>\n",
       "      <td>0.172069</td>\n",
       "      <td>0.174661</td>\n",
       "      <td>0.176181</td>\n",
       "      <td>0.181674</td>\n",
       "      <td>...</td>\n",
       "      <td>NaN</td>\n",
       "      <td>NaN</td>\n",
       "      <td>NaN</td>\n",
       "      <td>NaN</td>\n",
       "      <td>NaN</td>\n",
       "      <td>NaN</td>\n",
       "      <td>53.58</td>\n",
       "      <td>5.5</td>\n",
       "      <td>219.31</td>\n",
       "      <td>0.625000</td>\n",
       "    </tr>\n",
       "    <tr>\n",
       "      <th>...</th>\n",
       "      <td>...</td>\n",
       "      <td>...</td>\n",
       "      <td>...</td>\n",
       "      <td>...</td>\n",
       "      <td>...</td>\n",
       "      <td>...</td>\n",
       "      <td>...</td>\n",
       "      <td>...</td>\n",
       "      <td>...</td>\n",
       "      <td>...</td>\n",
       "      <td>...</td>\n",
       "      <td>...</td>\n",
       "      <td>...</td>\n",
       "      <td>...</td>\n",
       "      <td>...</td>\n",
       "      <td>...</td>\n",
       "      <td>...</td>\n",
       "      <td>...</td>\n",
       "      <td>...</td>\n",
       "      <td>...</td>\n",
       "      <td>...</td>\n",
       "    </tr>\n",
       "    <tr>\n",
       "      <th>17711</th>\n",
       "      <td>0.000492</td>\n",
       "      <td>0.000502</td>\n",
       "      <td>0.000506</td>\n",
       "      <td>0.000506</td>\n",
       "      <td>0.000512</td>\n",
       "      <td>0.000513</td>\n",
       "      <td>0.000506</td>\n",
       "      <td>0.000504</td>\n",
       "      <td>0.000515</td>\n",
       "      <td>0.000542</td>\n",
       "      <td>...</td>\n",
       "      <td>NaN</td>\n",
       "      <td>NaN</td>\n",
       "      <td>NaN</td>\n",
       "      <td>NaN</td>\n",
       "      <td>NaN</td>\n",
       "      <td>NaN</td>\n",
       "      <td>51.11</td>\n",
       "      <td>3.6</td>\n",
       "      <td>391.55</td>\n",
       "      <td>0.318710</td>\n",
       "    </tr>\n",
       "    <tr>\n",
       "      <th>17712</th>\n",
       "      <td>0.007184</td>\n",
       "      <td>0.007202</td>\n",
       "      <td>0.007230</td>\n",
       "      <td>0.007283</td>\n",
       "      <td>0.007289</td>\n",
       "      <td>0.007351</td>\n",
       "      <td>0.007494</td>\n",
       "      <td>0.007565</td>\n",
       "      <td>0.007587</td>\n",
       "      <td>0.007591</td>\n",
       "      <td>...</td>\n",
       "      <td>NaN</td>\n",
       "      <td>NaN</td>\n",
       "      <td>NaN</td>\n",
       "      <td>NaN</td>\n",
       "      <td>NaN</td>\n",
       "      <td>NaN</td>\n",
       "      <td>35.63</td>\n",
       "      <td>3.6</td>\n",
       "      <td>723.35</td>\n",
       "      <td>0.902378</td>\n",
       "    </tr>\n",
       "    <tr>\n",
       "      <th>17713</th>\n",
       "      <td>0.000677</td>\n",
       "      <td>0.000666</td>\n",
       "      <td>0.000671</td>\n",
       "      <td>0.000681</td>\n",
       "      <td>0.000679</td>\n",
       "      <td>0.000681</td>\n",
       "      <td>0.000678</td>\n",
       "      <td>0.000669</td>\n",
       "      <td>0.000673</td>\n",
       "      <td>0.000711</td>\n",
       "      <td>...</td>\n",
       "      <td>NaN</td>\n",
       "      <td>NaN</td>\n",
       "      <td>NaN</td>\n",
       "      <td>NaN</td>\n",
       "      <td>NaN</td>\n",
       "      <td>NaN</td>\n",
       "      <td>51.36</td>\n",
       "      <td>3.6</td>\n",
       "      <td>432.00</td>\n",
       "      <td>0.644350</td>\n",
       "    </tr>\n",
       "    <tr>\n",
       "      <th>17714</th>\n",
       "      <td>0.003705</td>\n",
       "      <td>0.003751</td>\n",
       "      <td>0.003771</td>\n",
       "      <td>0.003783</td>\n",
       "      <td>0.003877</td>\n",
       "      <td>0.003892</td>\n",
       "      <td>0.004106</td>\n",
       "      <td>0.004566</td>\n",
       "      <td>0.004658</td>\n",
       "      <td>0.004936</td>\n",
       "      <td>...</td>\n",
       "      <td>NaN</td>\n",
       "      <td>NaN</td>\n",
       "      <td>NaN</td>\n",
       "      <td>NaN</td>\n",
       "      <td>NaN</td>\n",
       "      <td>NaN</td>\n",
       "      <td>39.13</td>\n",
       "      <td>3.6</td>\n",
       "      <td>535.12</td>\n",
       "      <td>0.627871</td>\n",
       "    </tr>\n",
       "    <tr>\n",
       "      <th>17715</th>\n",
       "      <td>0.002131</td>\n",
       "      <td>0.002097</td>\n",
       "      <td>0.002103</td>\n",
       "      <td>0.002117</td>\n",
       "      <td>0.002152</td>\n",
       "      <td>0.002168</td>\n",
       "      <td>0.002176</td>\n",
       "      <td>0.002825</td>\n",
       "      <td>0.003033</td>\n",
       "      <td>0.003622</td>\n",
       "      <td>...</td>\n",
       "      <td>NaN</td>\n",
       "      <td>NaN</td>\n",
       "      <td>NaN</td>\n",
       "      <td>NaN</td>\n",
       "      <td>NaN</td>\n",
       "      <td>NaN</td>\n",
       "      <td>19.44</td>\n",
       "      <td>3.6</td>\n",
       "      <td>655.67</td>\n",
       "      <td>0.524267</td>\n",
       "    </tr>\n",
       "  </tbody>\n",
       "</table>\n",
       "<p>17716 rows × 214 columns</p>\n",
       "</div>"
      ],
      "text/plain": [
       "       Sa_RotD100_T1  Sa_RotD100_T2  Sa_RotD100_T3  Sa_RotD100_T4  \\\n",
       "0           0.176201       0.178434       0.180787       0.183714   \n",
       "1           0.053819       0.056277       0.056069       0.057316   \n",
       "2           0.045582       0.045905       0.045997       0.046184   \n",
       "3           0.021930       0.022245       0.022351       0.022733   \n",
       "4           0.165307       0.167300       0.168709       0.169770   \n",
       "...              ...            ...            ...            ...   \n",
       "17711       0.000492       0.000502       0.000506       0.000506   \n",
       "17712       0.007184       0.007202       0.007230       0.007283   \n",
       "17713       0.000677       0.000666       0.000671       0.000681   \n",
       "17714       0.003705       0.003751       0.003771       0.003783   \n",
       "17715       0.002131       0.002097       0.002103       0.002117   \n",
       "\n",
       "       Sa_RotD100_T5  Sa_RotD100_T6  Sa_RotD100_T7  Sa_RotD100_T8  \\\n",
       "0           0.190016       0.193431       0.202666       0.222450   \n",
       "1           0.064570       0.065244       0.069159       0.070873   \n",
       "2           0.046646       0.046720       0.046911       0.046695   \n",
       "3           0.023042       0.023228       0.023367       0.023635   \n",
       "4           0.169003       0.170108       0.172069       0.174661   \n",
       "...              ...            ...            ...            ...   \n",
       "17711       0.000512       0.000513       0.000506       0.000504   \n",
       "17712       0.007289       0.007351       0.007494       0.007565   \n",
       "17713       0.000679       0.000681       0.000678       0.000669   \n",
       "17714       0.003877       0.003892       0.004106       0.004566   \n",
       "17715       0.002152       0.002168       0.002176       0.002825   \n",
       "\n",
       "       Sa_RotD100_T9  Sa_RotD100_T10  ...  Sa_RotD50_T100  Sa_RotD50_T101  \\\n",
       "0           0.228174        0.247553  ...             NaN             NaN   \n",
       "1           0.071708        0.080807  ...             NaN             NaN   \n",
       "2           0.046636        0.046241  ...             NaN             NaN   \n",
       "3           0.023407        0.025159  ...             NaN             NaN   \n",
       "4           0.176181        0.181674  ...             NaN             NaN   \n",
       "...              ...             ...  ...             ...             ...   \n",
       "17711       0.000515        0.000542  ...             NaN             NaN   \n",
       "17712       0.007587        0.007591  ...             NaN             NaN   \n",
       "17713       0.000673        0.000711  ...             NaN             NaN   \n",
       "17714       0.004658        0.004936  ...             NaN             NaN   \n",
       "17715       0.003033        0.003622  ...             NaN             NaN   \n",
       "\n",
       "       Sa_RotD50_T102  Sa_RotD50_T103  Sa_RotD50_T104  Sa_RotD50_T105  \\\n",
       "0                 NaN             NaN             NaN             NaN   \n",
       "1                 NaN             NaN             NaN             NaN   \n",
       "2                 NaN             NaN             NaN             NaN   \n",
       "3                 NaN             NaN             NaN             NaN   \n",
       "4                 NaN             NaN             NaN             NaN   \n",
       "...               ...             ...             ...             ...   \n",
       "17711             NaN             NaN             NaN             NaN   \n",
       "17712             NaN             NaN             NaN             NaN   \n",
       "17713             NaN             NaN             NaN             NaN   \n",
       "17714             NaN             NaN             NaN             NaN   \n",
       "17715             NaN             NaN             NaN             NaN   \n",
       "\n",
       "       closest_D  magnitude  soil_Vs30  lowest_usable_freq_T1  \n",
       "0           2.86        6.0     593.35               0.162500  \n",
       "1           2.92        6.0     551.82               0.500000  \n",
       "2          71.57        5.8     219.31               0.375000  \n",
       "3          34.98        5.0     213.44               0.875000  \n",
       "4          53.58        5.5     219.31               0.625000  \n",
       "...          ...        ...        ...                    ...  \n",
       "17711      51.11        3.6     391.55               0.318710  \n",
       "17712      35.63        3.6     723.35               0.902378  \n",
       "17713      51.36        3.6     432.00               0.644350  \n",
       "17714      39.13        3.6     535.12               0.627871  \n",
       "17715      19.44        3.6     655.67               0.524267  \n",
       "\n",
       "[17716 rows x 214 columns]"
      ]
     },
     "execution_count": 61,
     "metadata": {},
     "output_type": "execute_result"
    }
   ],
   "source": [
    "# Initialize a new dictionary for expanded data\n",
    "expanded_data = {}\n",
    "\n",
    "# Iterate through the original dictionary\n",
    "for key, value in extracted_data.items():\n",
    "    # Check if the value is a 2D array\n",
    "    if len(value.shape) > 1:\n",
    "        # Create new keys for each column\n",
    "        for i in range(value.shape[1]):  # Loop through columns\n",
    "            if key != \"closest_D\" and key != \"magnitude\" and key != \"soil_Vs30\":\n",
    "                expanded_data[f\"{key}_T{i+1}\"] = value[:, i]\n",
    "            else:\n",
    "                expanded_data[f\"{key}\"] = value[:, i]\n",
    "\n",
    "    else:\n",
    "        # If it's a 1D array, just assign it directly\n",
    "        expanded_data[key] = value\n",
    "\n",
    "# Create a DataFrame from the expanded data\n",
    "df_expanded_data = pd.DataFrame(expanded_data)\n",
    "\n",
    "df_expanded_data"
   ]
  },
  {
   "cell_type": "code",
   "execution_count": 62,
   "metadata": {
    "colab": {
     "base_uri": "https://localhost:8080/"
    },
    "executionInfo": {
     "elapsed": 228,
     "status": "ok",
     "timestamp": 1732348959040,
     "user": {
      "displayName": "Victor Hugo Calderon Astuhuaman",
      "userId": "15468350708425672739"
     },
     "user_tz": 480
    },
    "id": "HfJEZgSW-d3C",
    "outputId": "dec9fc22-61e1-4963-c7bc-78011f3a59d9"
   },
   "outputs": [
    {
     "data": {
      "text/plain": [
       "array([0.00369682, 0.00372982, 0.00375855, 0.00382329, 0.00391773,\n",
       "       0.00394405, 0.00400429, 0.00410319, 0.00413711, 0.00428351,\n",
       "       0.00436373, 0.00444864, 0.00449303, 0.00453835, 0.0046327 ,\n",
       "       0.00471893, 0.00497476, 0.00524908, 0.00552479, 0.00563558,\n",
       "       0.00580122, 0.00607512, 0.00633123, 0.00656297, 0.0067781 ,\n",
       "       0.00698915, 0.00715473, 0.00748109, 0.0077669 , 0.00797832,\n",
       "       0.00802805, 0.00812984, 0.0082145 , 0.00823422, 0.00821849,\n",
       "       0.0081692 , 0.00810159, 0.00801677, 0.0077628 , 0.00745472,\n",
       "       0.00729331, 0.00713139, 0.00680806, 0.00664579, 0.00648415,\n",
       "       0.00616056, 0.00584383, 0.00568447, 0.00553033, 0.0052373 ,\n",
       "       0.00496375, 0.00470444, 0.00446723, 0.00435631, 0.00424197,\n",
       "       0.00403109, 0.00383588, 0.00338715, 0.00301413, 0.00270325,\n",
       "       0.00261678, 0.00243796, 0.00221274, 0.00200196, 0.00182846,\n",
       "       0.00168576, 0.0015586 , 0.00144761, 0.00126393, 0.00112005,\n",
       "       0.00100989, 0.00091508, 0.00085414, 0.00080757, 0.00075775,\n",
       "       0.00074055, 0.00071518, 0.00071536, 0.00068441, 0.00069976,\n",
       "       0.00074175, 0.00074627, 0.00073163, 0.00075656, 0.00080849,\n",
       "       0.00078713, 0.00081648, 0.0007821 , 0.00078711, 0.00080897,\n",
       "       0.00075339, 0.00075194, 0.00074454, 0.00075425, 0.00074919,\n",
       "       0.00069784, 0.00065165, 0.00060538, 0.000585  , 0.0005797 ,\n",
       "       0.00055023, 0.00048629, 0.00049434, 0.00044207, 0.00039599])"
      ]
     },
     "execution_count": 62,
     "metadata": {},
     "output_type": "execute_result"
    }
   ],
   "source": [
    "# Compute the geometric mean (median) of Sa_RotD100 and Sa_RotD50 for each column with no NaN values\n",
    "Sa_RotD100_median = np.exp(np.nanmean(np.log(Sa_RotD100), axis=0)) # Only for columns with no NaN values\n",
    "Sa_RotD50_median = np.exp(np.nanmean(np.log(Sa_RotD50), axis=0))\n",
    "\n",
    "# Compute the log variance of Sa_RotD100 and Sa_RotD50 for each column with no NaN values\n",
    "Sa_RotD100_var = np.nanvar(np.log(Sa_RotD100), axis=0, ddof=1)\n",
    "Sa_RotD50_var = np.nanvar(np.log(Sa_RotD50), axis=0, ddof=1)\n",
    "\n",
    "# Compute the geometric mean (median) of of the ratio subset per period for each column with no NaN values\n",
    "ratio_rotd_median= np.exp(np.nanmean(np.log(ratio_rotd), axis=0))\n",
    "ratio_rotd_var = np.nanvar(np.log(ratio_rotd), axis=0, ddof=1)\n",
    "\n",
    "Sa_RotD50_median"
   ]
  },
  {
   "cell_type": "code",
   "execution_count": 63,
   "metadata": {
    "colab": {
     "base_uri": "https://localhost:8080/"
    },
    "executionInfo": {
     "elapsed": 107,
     "status": "ok",
     "timestamp": 1732348961424,
     "user": {
      "displayName": "Victor Hugo Calderon Astuhuaman",
      "userId": "15468350708425672739"
     },
     "user_tz": 480
    },
    "id": "hXkVjNU--d3C",
    "outputId": "6a92a44b-941e-4fab-c17e-a7951180af22"
   },
   "outputs": [
    {
     "data": {
      "text/plain": [
       "array([ 0.01 ,  0.02 ,  0.022,  0.025,  0.029,  0.03 ,  0.032,  0.035,\n",
       "        0.036,  0.04 ,  0.042,  0.044,  0.045,  0.046,  0.048,  0.05 ,\n",
       "        0.055,  0.06 ,  0.065,  0.067,  0.07 ,  0.075,  0.08 ,  0.085,\n",
       "        0.09 ,  0.095,  0.1  ,  0.11 ,  0.12 ,  0.13 ,  0.133,  0.14 ,\n",
       "        0.15 ,  0.16 ,  0.17 ,  0.18 ,  0.19 ,  0.2  ,  0.22 ,  0.24 ,\n",
       "        0.25 ,  0.26 ,  0.28 ,  0.29 ,  0.3  ,  0.32 ,  0.34 ,  0.35 ,\n",
       "        0.36 ,  0.38 ,  0.4  ,  0.42 ,  0.44 ,  0.45 ,  0.46 ,  0.48 ,\n",
       "        0.5  ,  0.55 ,  0.6  ,  0.65 ,  0.667,  0.7  ,  0.75 ,  0.8  ,\n",
       "        0.85 ,  0.9  ,  0.95 ,  1.   ,  1.1  ,  1.2  ,  1.3  ,  1.4  ,\n",
       "        1.5  ,  1.6  ,  1.7  ,  1.8  ,  1.9  ,  2.   ,  2.2  ,  2.4  ,\n",
       "        2.5  ,  2.6  ,  2.8  ,  3.   ,  3.2  ,  3.4  ,  3.5  ,  3.6  ,\n",
       "        3.8  ,  4.   ,  4.2  ,  4.4  ,  4.6  ,  4.8  ,  5.   ,  5.5  ,\n",
       "        6.   ,  6.5  ,  7.   ,  7.5  ,  8.   ,  8.5  ,  9.   ,  9.5  ,\n",
       "       10.   ])"
      ]
     },
     "execution_count": 63,
     "metadata": {},
     "output_type": "execute_result"
    }
   ],
   "source": [
    "Periods.flatten()"
   ]
  },
  {
   "cell_type": "code",
   "execution_count": 64,
   "metadata": {},
   "outputs": [
    {
     "data": {
      "text/plain": [
       "array([-2.        , -1.69897   , -1.65757732, -1.60205999, -1.537602  ,\n",
       "       -1.52287875, -1.49485002, -1.45593196, -1.4436975 , -1.39794001,\n",
       "       -1.37675071, -1.35654732, -1.34678749, -1.33724217, -1.31875876,\n",
       "       -1.30103   , -1.25963731, -1.22184875, -1.18708664, -1.1739252 ,\n",
       "       -1.15490196, -1.12493874, -1.09691001, -1.07058107, -1.04575749,\n",
       "       -1.02227639, -1.        , -0.95860731, -0.92081875, -0.88605665,\n",
       "       -0.87614836, -0.85387196, -0.82390874, -0.79588002, -0.76955108,\n",
       "       -0.74472749, -0.7212464 , -0.69897   , -0.65757732, -0.61978876,\n",
       "       -0.60205999, -0.58502665, -0.55284197, -0.537602  , -0.52287875,\n",
       "       -0.49485002, -0.46852108, -0.45593196, -0.4436975 , -0.4202164 ,\n",
       "       -0.39794001, -0.37675071, -0.35654732, -0.34678749, -0.33724217,\n",
       "       -0.31875876, -0.30103   , -0.25963731, -0.22184875, -0.18708664,\n",
       "       -0.17587417, -0.15490196, -0.12493874, -0.09691001, -0.07058107,\n",
       "       -0.04575749, -0.02227639,  0.        ,  0.04139269,  0.07918125,\n",
       "        0.11394335,  0.14612804,  0.17609126,  0.20411998,  0.23044892,\n",
       "        0.25527251,  0.2787536 ,  0.30103   ,  0.34242268,  0.38021124,\n",
       "        0.39794001,  0.41497335,  0.44715803,  0.47712125,  0.50514998,\n",
       "        0.53147892,  0.54406804,  0.5563025 ,  0.5797836 ,  0.60205999,\n",
       "        0.62324929,  0.64345268,  0.66275783,  0.68124124,  0.69897   ,\n",
       "        0.74036269,  0.77815125,  0.81291336,  0.84509804,  0.87506126,\n",
       "        0.90308999,  0.92941893,  0.95424251,  0.97772361,  1.        ])"
      ]
     },
     "execution_count": 64,
     "metadata": {},
     "output_type": "execute_result"
    }
   ],
   "source": [
    "# create Log_periods column\n",
    "Log_period = np.log10(Periods.flatten())\n",
    "Log_period"
   ]
  },
  {
   "cell_type": "markdown",
   "metadata": {},
   "source": [
    "## 2.1 Create working dataset"
   ]
  },
  {
   "cell_type": "code",
   "execution_count": 65,
   "metadata": {},
   "outputs": [
    {
     "data": {
      "text/html": [
       "<div>\n",
       "<style scoped>\n",
       "    .dataframe tbody tr th:only-of-type {\n",
       "        vertical-align: middle;\n",
       "    }\n",
       "\n",
       "    .dataframe tbody tr th {\n",
       "        vertical-align: top;\n",
       "    }\n",
       "\n",
       "    .dataframe thead th {\n",
       "        text-align: right;\n",
       "    }\n",
       "</style>\n",
       "<table border=\"1\" class=\"dataframe\">\n",
       "  <thead>\n",
       "    <tr style=\"text-align: right;\">\n",
       "      <th></th>\n",
       "      <th>Periods</th>\n",
       "      <th>Log_periods</th>\n",
       "      <th>Sa_RotD100_var</th>\n",
       "      <th>Sa_RotD50_var</th>\n",
       "      <th>Ratio_median</th>\n",
       "      <th>Ratio_var</th>\n",
       "    </tr>\n",
       "  </thead>\n",
       "  <tbody>\n",
       "    <tr>\n",
       "      <th>0</th>\n",
       "      <td>0.010</td>\n",
       "      <td>-2.000000</td>\n",
       "      <td>5.940487</td>\n",
       "      <td>5.913302</td>\n",
       "      <td>1.200727</td>\n",
       "      <td>0.007216</td>\n",
       "    </tr>\n",
       "    <tr>\n",
       "      <th>1</th>\n",
       "      <td>0.020</td>\n",
       "      <td>-1.698970</td>\n",
       "      <td>5.969157</td>\n",
       "      <td>5.942358</td>\n",
       "      <td>1.199830</td>\n",
       "      <td>0.007161</td>\n",
       "    </tr>\n",
       "    <tr>\n",
       "      <th>2</th>\n",
       "      <td>0.022</td>\n",
       "      <td>-1.657577</td>\n",
       "      <td>5.969779</td>\n",
       "      <td>5.942977</td>\n",
       "      <td>1.199338</td>\n",
       "      <td>0.007126</td>\n",
       "    </tr>\n",
       "    <tr>\n",
       "      <th>3</th>\n",
       "      <td>0.025</td>\n",
       "      <td>-1.602060</td>\n",
       "      <td>5.960107</td>\n",
       "      <td>5.934452</td>\n",
       "      <td>1.198367</td>\n",
       "      <td>0.007053</td>\n",
       "    </tr>\n",
       "    <tr>\n",
       "      <th>4</th>\n",
       "      <td>0.029</td>\n",
       "      <td>-1.537602</td>\n",
       "      <td>5.956376</td>\n",
       "      <td>5.930309</td>\n",
       "      <td>1.197620</td>\n",
       "      <td>0.006993</td>\n",
       "    </tr>\n",
       "    <tr>\n",
       "      <th>...</th>\n",
       "      <td>...</td>\n",
       "      <td>...</td>\n",
       "      <td>...</td>\n",
       "      <td>...</td>\n",
       "      <td>...</td>\n",
       "      <td>...</td>\n",
       "    </tr>\n",
       "    <tr>\n",
       "      <th>100</th>\n",
       "      <td>8.000</td>\n",
       "      <td>0.903090</td>\n",
       "      <td>10.583575</td>\n",
       "      <td>10.465022</td>\n",
       "      <td>1.266621</td>\n",
       "      <td>0.007087</td>\n",
       "    </tr>\n",
       "    <tr>\n",
       "      <th>101</th>\n",
       "      <td>8.500</td>\n",
       "      <td>0.929419</td>\n",
       "      <td>10.674717</td>\n",
       "      <td>10.557460</td>\n",
       "      <td>1.269646</td>\n",
       "      <td>0.007057</td>\n",
       "    </tr>\n",
       "    <tr>\n",
       "      <th>102</th>\n",
       "      <td>9.000</td>\n",
       "      <td>0.954243</td>\n",
       "      <td>10.408240</td>\n",
       "      <td>10.288896</td>\n",
       "      <td>1.271049</td>\n",
       "      <td>0.007052</td>\n",
       "    </tr>\n",
       "    <tr>\n",
       "      <th>103</th>\n",
       "      <td>9.500</td>\n",
       "      <td>0.977724</td>\n",
       "      <td>10.412511</td>\n",
       "      <td>10.291872</td>\n",
       "      <td>1.271696</td>\n",
       "      <td>0.007054</td>\n",
       "    </tr>\n",
       "    <tr>\n",
       "      <th>104</th>\n",
       "      <td>10.000</td>\n",
       "      <td>1.000000</td>\n",
       "      <td>10.426544</td>\n",
       "      <td>10.310758</td>\n",
       "      <td>1.271718</td>\n",
       "      <td>0.006938</td>\n",
       "    </tr>\n",
       "  </tbody>\n",
       "</table>\n",
       "<p>105 rows × 6 columns</p>\n",
       "</div>"
      ],
      "text/plain": [
       "     Periods  Log_periods  Sa_RotD100_var  Sa_RotD50_var  Ratio_median  \\\n",
       "0      0.010    -2.000000        5.940487       5.913302      1.200727   \n",
       "1      0.020    -1.698970        5.969157       5.942358      1.199830   \n",
       "2      0.022    -1.657577        5.969779       5.942977      1.199338   \n",
       "3      0.025    -1.602060        5.960107       5.934452      1.198367   \n",
       "4      0.029    -1.537602        5.956376       5.930309      1.197620   \n",
       "..       ...          ...             ...            ...           ...   \n",
       "100    8.000     0.903090       10.583575      10.465022      1.266621   \n",
       "101    8.500     0.929419       10.674717      10.557460      1.269646   \n",
       "102    9.000     0.954243       10.408240      10.288896      1.271049   \n",
       "103    9.500     0.977724       10.412511      10.291872      1.271696   \n",
       "104   10.000     1.000000       10.426544      10.310758      1.271718   \n",
       "\n",
       "     Ratio_var  \n",
       "0     0.007216  \n",
       "1     0.007161  \n",
       "2     0.007126  \n",
       "3     0.007053  \n",
       "4     0.006993  \n",
       "..         ...  \n",
       "100   0.007087  \n",
       "101   0.007057  \n",
       "102   0.007052  \n",
       "103   0.007054  \n",
       "104   0.006938  \n",
       "\n",
       "[105 rows x 6 columns]"
      ]
     },
     "execution_count": 65,
     "metadata": {},
     "output_type": "execute_result"
    }
   ],
   "source": [
    "# Creating the dataframe\n",
    "working_dic = {\n",
    "    'Periods': Periods.flatten(),\n",
    "    'Log_periods':Log_period,\n",
    "    'Sa_RotD100_var': Sa_RotD100_var,\n",
    "    'Sa_RotD50_var': Sa_RotD50_var,\n",
    "    'Ratio_median': ratio_rotd_median,\n",
    "    'Ratio_var': ratio_rotd_var\n",
    "}\n",
    "\n",
    "working_df = pd.DataFrame(working_dic)\n",
    "\n",
    "working_df"
   ]
  },
  {
   "cell_type": "markdown",
   "metadata": {},
   "source": [
    "## 2.2 Plot Sa_RotD100_var"
   ]
  },
  {
   "cell_type": "code",
   "execution_count": 66,
   "metadata": {},
   "outputs": [],
   "source": [
    "ratio_real_var = np.nanvar(ratio_rotd, axis=0, ddof=1)\n",
    "\n",
    "# square root of the variance\n",
    "ratio_rotd_var_sqrt = np.sqrt(ratio_real_var) # Standard deviation\n",
    "#Top bound 1 std above the median\n",
    "ratio_rotd_median_plus = ratio_rotd_median + ratio_rotd_var_sqrt\n",
    "#Bottom bound 1 std below the median\n",
    "ratio_rotd_median_minus = ratio_rotd_median - ratio_rotd_var_sqrt\n",
    "\n"
   ]
  },
  {
   "cell_type": "code",
   "execution_count": 67,
   "metadata": {},
   "outputs": [
    {
     "data": {
      "image/png": "[encoded data removed]",
      "text/plain": [
       "<Figure size 1000x600 with 1 Axes>"
      ]
     },
     "metadata": {},
     "output_type": "display_data"
    }
   ],
   "source": [
    "plt.figure(figsize=(10, 6))\n",
    "\n",
    "# Plot the geometric mean\n",
    "plt.plot(Periods, ratio_rotd_median, marker='o', markersize=5, label=\"Median\")\n",
    "\n",
    "# Plot the confidence band using fill_between\n",
    "plt.fill_between(\n",
    "    Periods,\n",
    "    ratio_rotd_median_minus,\n",
    "    ratio_rotd_median_plus,\n",
    "\n",
    "    alpha=0.3,\n",
    "    label=\"+/- Std. Deviation\"\n",
    ")\n",
    "\n",
    "# Customize the plot\n",
    "plt.xlabel('Periods (s)')\n",
    "plt.ylabel('Ratio')\n",
    "plt.title('Geometric Mean and Confidence Band')\n",
    "plt.legend()\n",
    "\n",
    "# Show the plot\n",
    "plt.show()"
   ]
  },
  {
   "cell_type": "code",
   "execution_count": 68,
   "metadata": {},
   "outputs": [
    {
     "data": {
      "image/png": "[encoded data removed]",
      "text/plain": [
       "<Figure size 1000x600 with 1 Axes>"
      ]
     },
     "metadata": {},
     "output_type": "display_data"
    }
   ],
   "source": [
    "plt.figure(figsize=(10, 6))\n",
    "# Plot the geometric mean\n",
    "plt.plot(Periods, ratio_rotd_median, color='blue', marker='o', markersize=5, label=\"Median\")\n",
    "\n",
    "# Plot +/- 1 standard deviation\n",
    "plt.plot(Periods, ratio_rotd_median_plus, color='lightblue', linestyle='-', label=\"+/- Std. Deviation\")\n",
    "plt.plot(Periods, ratio_rotd_median_minus, color='lightblue', linestyle='-')\n",
    "\n",
    "# Show the plot\n",
    "plt.show()\n"
   ]
  },
  {
   "cell_type": "code",
   "execution_count": 69,
   "metadata": {},
   "outputs": [
    {
     "ename": "NameError",
     "evalue": "name 'save_path' is not defined",
     "output_type": "error",
     "traceback": [
      "\u001b[1;31m---------------------------------------------------------------------------\u001b[0m",
      "\u001b[1;31mNameError\u001b[0m                                 Traceback (most recent call last)",
      "Cell \u001b[1;32mIn[69], line 29\u001b[0m\n\u001b[0;32m     27\u001b[0m \u001b[38;5;66;03m# Add legend\u001b[39;00m\n\u001b[0;32m     28\u001b[0m ax\u001b[38;5;241m.\u001b[39mlegend(loc\u001b[38;5;241m=\u001b[39m\u001b[38;5;124m\"\u001b[39m\u001b[38;5;124mbest\u001b[39m\u001b[38;5;124m\"\u001b[39m)\n\u001b[1;32m---> 29\u001b[0m \u001b[38;5;28;01mif\u001b[39;00m \u001b[43msave_path\u001b[49m:\n\u001b[0;32m     30\u001b[0m \u001b[38;5;66;03m# Ensure the save path ends with a slash and construct the file name\u001b[39;00m\n\u001b[0;32m     31\u001b[0m     save_path \u001b[38;5;241m=\u001b[39m save_path\u001b[38;5;241m.\u001b[39mrstrip(\u001b[38;5;124m\"\u001b[39m\u001b[38;5;124m/\u001b[39m\u001b[38;5;124m\"\u001b[39m) \u001b[38;5;241m+\u001b[39m \u001b[38;5;124m\"\u001b[39m\u001b[38;5;124m/\u001b[39m\u001b[38;5;124m\"\u001b[39m\n\u001b[0;32m     32\u001b[0m     full_file_path \u001b[38;5;241m=\u001b[39m \u001b[38;5;124mf\u001b[39m\u001b[38;5;124m\"\u001b[39m\u001b[38;5;132;01m{\u001b[39;00msave_path\u001b[38;5;132;01m}\u001b[39;00m\u001b[38;5;132;01m{\u001b[39;00mfile_name\u001b[38;5;132;01m}\u001b[39;00m\u001b[38;5;124m.png\u001b[39m\u001b[38;5;124m\"\u001b[39m\n",
      "\u001b[1;31mNameError\u001b[0m: name 'save_path' is not defined"
     ]
    },
    {
     "data": {
      "image/png": "[encoded data removed]",
      "text/plain": [
       "<Figure size 800x600 with 1 Axes>"
      ]
     },
     "metadata": {},
     "output_type": "display_data"
    }
   ],
   "source": [
    "with plt.style.context(['science']):\n",
    "    fig, ax = plt.subplots(figsize=(8, 6))\n",
    "\n",
    "    # Plot the geometric mean (median)\n",
    "    ax.plot(\n",
    "        Periods, ratio_rotd_median, marker='o', markersize=5, label=\"Median\"\n",
    "    )\n",
    "\n",
    "    # Plot the confidence band using fill_between\n",
    "    ax.fill_between(\n",
    "        Periods,\n",
    "        ratio_rotd_median_minus,\n",
    "        ratio_rotd_median_plus,\n",
    "        alpha=0.3,\n",
    "        label=\"+/- Std. Deviation\"\n",
    "    )\n",
    "\n",
    "    # Customize the plot\n",
    "    ax.set_xlabel(\"Periods (s)\", fontsize=16)\n",
    "    ax.set_ylabel(r\"$\\mathrm{Sa}_{\\mathit{RotD100}} / \\mathrm{Sa}_{\\mathit{RotD50}}$\", fontsize=16)\n",
    "    ax.set_xlim(0, 10)\n",
    "    ax.set_ylim(1, 1.5)\n",
    "    ax.set_xticks([0, 2, 4, 6, 8, 10])\n",
    "    ax.set_yticks(np.arange(1, 1.5, 0.1))\n",
    "    ax.grid(True, which=\"both\", linestyle=\"--\", linewidth=0.5)\n",
    "\n",
    "    # Add legend\n",
    "    ax.legend(loc=\"best\")\n",
    "    if save_path:\n",
    "    # Ensure the save path ends with a slash and construct the file name\n",
    "        save_path = save_path.rstrip(\"/\") + \"/\"\n",
    "        full_file_path = f\"{save_path}{file_name}.png\"\n",
    "        fig.savefig(full_file_path, format=\"png\", dpi=600)  # Set DPI to 600 for high quality\n",
    "        print(f\"Plot saved as PNG at {full_file_path}\")\n",
    "\n",
    "    # Show the plot\n",
    "    plt.show()"
   ]
  },
  {
   "cell_type": "code",
   "execution_count": 70,
   "metadata": {},
   "outputs": [],
   "source": [
    "save_path = \"figures_report/\"\n",
    "file_name = \"scatter_plot_median_std_deviation\""
   ]
  },
  {
   "cell_type": "code",
   "execution_count": 73,
   "metadata": {},
   "outputs": [
    {
     "name": "stdout",
     "output_type": "stream",
     "text": [
      "Plot saved as PNG at figures_report/scatter_plot_median_std_deviation.png\n"
     ]
    },
    {
     "data": {
      "image/png": "[encoded data removed]",
      "text/plain": [
       "<Figure size 800x600 with 1 Axes>"
      ]
     },
     "metadata": {},
     "output_type": "display_data"
    }
   ],
   "source": [
    "with plt.style.context(['science']):\n",
    "    fig, ax = plt.subplots(figsize=(8, 6))\n",
    "\n",
    "    # Scatter plot for the raw data\n",
    "    for i in range(ratio_rotd.shape[0]):\n",
    "        valid_indices = ~np.isnan(ratio_rotd[i, :])\n",
    "        valid_periods = Periods[valid_indices]\n",
    "        valid_ratios = ratio_rotd[i, valid_indices]\n",
    "        ax.scatter(\n",
    "            valid_periods, valid_ratios, s=10, color='gray', alpha=0.3, \n",
    "            label=\"Cleaned Data\" if i == 0 else \"\"\n",
    "        )\n",
    "\n",
    "    # Plot the geometric mean (median)\n",
    "    ax.plot(\n",
    "        Periods, ratio_rotd_median, marker='o', markersize=5, label=\"Median\"\n",
    "    )\n",
    "\n",
    "    # Plot the confidence band using fill_between\n",
    "    ax.fill_between(\n",
    "        Periods,\n",
    "        ratio_rotd_median_minus,\n",
    "        ratio_rotd_median_plus,\n",
    "        alpha=0.3,\n",
    "        label=\"+/- Std. Deviation\"\n",
    "    )\n",
    "\n",
    "    # Customize the plot\n",
    "    ax.set_xlabel(\"Periods (s)\", fontsize=30)\n",
    "    ax.set_ylabel(r\"$\\mathrm{Sa}_{\\mathit{RotD100}} / \\mathrm{Sa}_{\\mathit{RotD50}}$\", fontsize=30)\n",
    "    ax.set_xlim(0, 10)\n",
    "    ax.set_ylim(1, 1.5)\n",
    "    ax.set_xticks([0, 2, 4, 6, 8, 10])\n",
    "    ax.set_yticks(np.arange(1, 1.5, 0.1))\n",
    "    ax.tick_params(axis='both', which='major', labelsize=20)\n",
    "    ax.grid(True, which=\"both\", linestyle=\"--\", linewidth=0.5)\n",
    "\n",
    "    # Add legend\n",
    "    ax.legend(loc=\"upper right\", fontsize=20)\n",
    "    if save_path:\n",
    "    # Ensure the save path ends with a slash and construct the file name\n",
    "        save_path = save_path.rstrip(\"/\") + \"/\"\n",
    "        full_file_path = f\"{save_path}{file_name}.png\"\n",
    "        fig.savefig(full_file_path, format=\"png\", dpi=600)  # Set DPI to 600 for high quality\n",
    "        print(f\"Plot saved as PNG at {full_file_path}\")\n",
    "\n",
    "    # Show the plot\n",
    "    plt.show()"
   ]
  },
  {
   "cell_type": "code",
   "execution_count": null,
   "metadata": {},
   "outputs": [],
   "source": [
    "def plot_scatter_with_save(x, y, ylabel, save_path, file_name):\n",
    "    \"\"\"\n",
    "    Plots a scatter plot with customized axes and labels, and saves the plot as a high-quality PNG.\n",
    "\n",
    "    Parameters:\n",
    "    - x: Array-like, data for the x-axis.\n",
    "    - y: Array-like, data for the y-axis.\n",
    "    - ylabel: Label for the y-axis (str), typically a LaTeX-formatted string.\n",
    "    - save_path: Optional (str). Directory path to save the plot. If None, the plot is not saved.\n",
    "    - file_name: Optional (str). Name of the file to be saved (without extension). Default is \"scatter_plot\".\n",
    "    \n",
    "    Example Usage:\n",
    "    plot_scatter_with_save(\n",
    "        x=Periods,\n",
    "        y=ratios,\n",
    "        ylabel=r\"$\\mathrm{Sa}_{\\mathit{RotD100}} / \\mathrm{Sa}_{\\mathit{RotD50}}$\",\n",
    "        save_path=\"figures_report\",\n",
    "        file_name=\"scatter_plot\"\n",
    "    )\n",
    "    \"\"\"\n",
    "    with plt.style.context(['science']):\n",
    "        fig, ax = plt.subplots(figsize=(8, 6))\n",
    "\n",
    "        # Scatter plot\n",
    "        ax.scatter(x, y, s=20)\n",
    "\n",
    "        # Customize the plot\n",
    "        ax.set_xlabel(\"Periods (s)\", fontsize=19)\n",
    "        ax.set_ylabel(ylabel, fontsize=19)\n",
    "        ax.set_xscale(\"log\")  # Set the x-axis to logarithmic scale\n",
    "        ax.set_xlim(0, 10)\n",
    "\n",
    "        # Save the plot if save_path is provided\n",
    "        if save_path:\n",
    "            # Ensure the save path ends with a slash and construct the file name\n",
    "            save_path = save_path.rstrip(\"/\") + \"/\"\n",
    "            full_file_path = f\"{save_path}{file_name}.png\"\n",
    "            fig.savefig(full_file_path, format=\"png\", dpi=600)  # High-quality PNG\n",
    "            print(f\"Plot saved as PNG at {full_file_path}\")\n",
    "\n",
    "        # Show the plot\n",
    "        plt.show()\n"
   ]
  },
  {
   "cell_type": "code",
   "execution_count": null,
   "metadata": {},
   "outputs": [],
   "source": [
    "# No logaritmic\n",
    "plt.figure()\n",
    "plt.plot(working_df['Periods'].iloc[:], working_df['Sa_RotD100_var'].iloc[:], 'o')\n",
    "plt.xlabel('Periods')\n",
    "plt.ylabel('Sa_RotD100_var')\n",
    "plt.title('Sa_RotD100_var vs Periods')\n",
    "plt.show()"
   ]
  },
  {
   "cell_type": "code",
   "execution_count": null,
   "metadata": {},
   "outputs": [],
   "source": [
    "file_name = \"var_rotd100\"\n",
    "ylabel = r\"$\\sigma_{\\ln \\mathrm{Sa}_{\\mathit{RotD100}}}^2$\""
   ]
  },
  {
   "cell_type": "code",
   "execution_count": null,
   "metadata": {},
   "outputs": [],
   "source": [
    "plot_scatter_with_save(\n",
    "    x=working_df['Periods'].iloc[:],\n",
    "    y=working_df['Sa_RotD100_var'].iloc[:],\n",
    "    ylabel=ylabel,\n",
    "    save_path=save_path,\n",
    "    file_name=file_name\n",
    ")"
   ]
  },
  {
   "cell_type": "code",
   "execution_count": null,
   "metadata": {},
   "outputs": [],
   "source": [
    "# Logaritmic\n",
    "plt.figure()\n",
    "plt.plot(working_df['Log_periods'].iloc[:], working_df['Sa_RotD100_var'].iloc[:], 'o')\n",
    "plt.xlabel('Log_periods')\n",
    "plt.ylabel('Sa_RotD100_var')\n",
    "plt.title('Sa_RotD100_var vs Log_periods')\n",
    "plt.show()"
   ]
  },
  {
   "cell_type": "markdown",
   "metadata": {},
   "source": [
    "## 2.3 Plot Sa_RotD50_var"
   ]
  },
  {
   "cell_type": "code",
   "execution_count": null,
   "metadata": {},
   "outputs": [],
   "source": [
    "# No logaritmic\n",
    "plt.figure()\n",
    "plt.plot(working_df['Periods'].iloc[:], working_df['Sa_RotD50_var'].iloc[:], 'o')\n",
    "plt.xlabel('Periods')\n",
    "plt.ylabel('Sa_RotD50_var')\n",
    "plt.title('Sa_RotD50_var vs Periods')\n",
    "plt.show()"
   ]
  },
  {
   "cell_type": "code",
   "execution_count": null,
   "metadata": {},
   "outputs": [],
   "source": [
    "file_name = \"var_rotd50\"\n",
    "ylabel = r\"$\\sigma_{\\ln \\mathrm{Sa}_{\\mathit{RotD50}}}^2$\""
   ]
  },
  {
   "cell_type": "code",
   "execution_count": null,
   "metadata": {},
   "outputs": [],
   "source": [
    "plot_scatter_with_save(\n",
    "    x=working_df['Periods'].iloc[:],\n",
    "    y=working_df['Sa_RotD50_var'].iloc[:],\n",
    "    ylabel=ylabel,\n",
    "    save_path=save_path,\n",
    "    file_name=file_name\n",
    ")"
   ]
  },
  {
   "cell_type": "code",
   "execution_count": null,
   "metadata": {},
   "outputs": [],
   "source": [
    "# Logaritmic\n",
    "plt.figure()\n",
    "plt.plot(working_df['Log_periods'].iloc[:], working_df['Sa_RotD50_var'].iloc[:], 'o')\n",
    "plt.xlabel('Log_periods')\n",
    "plt.ylabel('Sa_RotD50_var')\n",
    "plt.title('Sa_RotD50_var vs Log_periods')\n",
    "plt.show()"
   ]
  },
  {
   "cell_type": "markdown",
   "metadata": {},
   "source": [
    "## 2.4 Plot Ratio_median"
   ]
  },
  {
   "cell_type": "code",
   "execution_count": null,
   "metadata": {},
   "outputs": [],
   "source": [
    "# No logaritmic\n",
    "plt.figure()\n",
    "plt.plot(working_df['Periods'].iloc[:], working_df['Ratio_median'].iloc[:], 'o')\n",
    "plt.xlabel('Periods')\n",
    "plt.ylabel('Ratio_median')\n",
    "plt.title('Ratio_median vs Periods')\n",
    "plt.show()"
   ]
  },
  {
   "cell_type": "code",
   "execution_count": null,
   "metadata": {},
   "outputs": [],
   "source": [
    "file_name = \"ratio_med\"\n",
    "ylabel = r\"$\\mathrm{Sa}_{\\mathit{RotD100}} / \\mathrm{Sa}_{\\mathit{RotD50}}$\""
   ]
  },
  {
   "cell_type": "code",
   "execution_count": null,
   "metadata": {},
   "outputs": [],
   "source": [
    "plot_scatter_with_save(\n",
    "    x=working_df['Periods'].iloc[:],\n",
    "    y=working_df['Ratio_median'].iloc[:],\n",
    "    ylabel=ylabel,\n",
    "    save_path=save_path,\n",
    "    file_name=file_name\n",
    ")"
   ]
  },
  {
   "cell_type": "code",
   "execution_count": null,
   "metadata": {},
   "outputs": [],
   "source": [
    "# Logaritmic\n",
    "plt.figure()\n",
    "plt.plot(working_df['Log_periods'].iloc[:], working_df['Ratio_median'].iloc[:], 'o')\n",
    "plt.xlabel('Log_periods')\n",
    "plt.ylabel('Ratio_median')\n",
    "plt.title('Ratio_median vs Log_periods')\n",
    "plt.show()"
   ]
  },
  {
   "cell_type": "markdown",
   "metadata": {},
   "source": [
    "## 2.5 Plot Ratio_var"
   ]
  },
  {
   "cell_type": "code",
   "execution_count": null,
   "metadata": {},
   "outputs": [],
   "source": [
    "# No logaritmic\n",
    "plt.figure()\n",
    "plt.plot(working_df['Periods'].iloc[:], working_df['Ratio_var'].iloc[:], 'o')\n",
    "plt.xlabel('Periods')\n",
    "plt.ylabel('Ratio_var')\n",
    "plt.title('Ratio_var vs Periods')\n",
    "plt.show()"
   ]
  },
  {
   "cell_type": "code",
   "execution_count": null,
   "metadata": {},
   "outputs": [],
   "source": [
    "file_name = \"var_ratio_med\"\n",
    "ylabel = r\"$\\sigma_{\\ln \\left(\\mathrm{Sa}_{\\mathit{RotD100}} / \\mathrm{Sa}_{\\mathit{RotD50}}\\right)}^2$\""
   ]
  },
  {
   "cell_type": "code",
   "execution_count": null,
   "metadata": {},
   "outputs": [],
   "source": [
    "plot_scatter_with_save(\n",
    "    x=working_df['Periods'].iloc[:],\n",
    "    y=working_df['Ratio_var'].iloc[:],\n",
    "    ylabel=ylabel,\n",
    "    save_path=save_path,\n",
    "    file_name=file_name\n",
    ")"
   ]
  },
  {
   "cell_type": "code",
   "execution_count": null,
   "metadata": {},
   "outputs": [],
   "source": [
    "# Logaritmic\n",
    "plt.figure()\n",
    "plt.plot(working_df['Log_periods'].iloc[:], working_df['Ratio_var'].iloc[:], 'o')\n",
    "plt.xlabel('Log_periods')\n",
    "plt.ylabel('Ratio_var')\n",
    "plt.title('Ratio_var vs Log_periods')\n",
    "plt.show()"
   ]
  },
  {
   "cell_type": "markdown",
   "metadata": {
    "id": "Wdn_JEv5-d3D"
   },
   "source": [
    "# 3. Save Data"
   ]
  },
  {
   "cell_type": "code",
   "execution_count": null,
   "metadata": {
    "id": "Ym0dyDQPDWA-"
   },
   "outputs": [],
   "source": [
    "# Save predict_var to a pickle file in the datasets folder\n",
    "working_df.to_pickle('datasets/working_df.pkl')\n"
   ]
  },
  {
   "cell_type": "markdown",
   "metadata": {},
   "source": [
    "# 4. Plots"
   ]
  },
  {
   "cell_type": "code",
   "execution_count": null,
   "metadata": {},
   "outputs": [],
   "source": [
    "# Plot the ratio of Sa_RotD100/Sa_RotD50 for each period\n",
    "plt.figure(figsize=(7, 7))  # Set figure size for journal standards\n",
    "plt.semilogx(working_df['Periods'].iloc[:], working_df['Ratio_median'].iloc[:], 'o-', markersize=4, linewidth=1.5, color='blue', label=r'$\\mathrm{Median\\ Ratio}$')\n",
    "plt.xlabel(r'$\\mathrm{Period\\ (s)}$', fontsize=12, labelpad=10)\n",
    "plt.ylabel(r'$\\mathrm{Sa_{RotD100}/Sa_{RotD50}}$', fontsize=12, labelpad=10)\n",
    "plt.title(r'$\\mathrm{Ratio\\ of\\ Sa_{RotD100}/Sa_{RotD50}\\ vs.\\ Periods}$', fontsize=14, pad=15)\n",
    "xticks = [0.01, 0.1, 1, 10]  # Logarithmic positions for ticks\n",
    "xtick_labels = [r'$10^{-2}$', r'$10^{-1}$', r'$10^{0}$', r'$10^{1}$']  # Labels for ticks\n",
    "plt.xticks(xticks, labels=xtick_labels, fontsize=10)\n",
    "yticks = np.arange(1.15, 1.33, 0.03)  # Generate ticks for y-axis\n",
    "plt.yticks(yticks, fontsize=10)  # Apply the ticks with specific font size\n",
    "plt.minorticks_on()  # Enable minor ticks\n",
    "plt.tick_params(axis='x', direction='in', length=10, width=1, which='major')  # Major ticks\n",
    "plt.tick_params(axis='y', direction='in', length=5, width=0.05, which='minor')  # Minor ticks\n",
    "plt.grid(visible=True, linestyle='--', linewidth=0.5, alpha=0.7, which='major')  # Add grid\n",
    "plt.xlim([0.01, 10])  # Set x-axis limits\n",
    "plt.ylim([1.15, 1.3])  # Set y-axis limits\n",
    "plt.legend(fontsize=10, loc='upper right', frameon=False)  # Add legend\n",
    "\n",
    "plt.tight_layout()  # Adjust layout\n",
    "plt.savefig('Sa_Ratio_vs_Periods.pdf', dpi=300, bbox_inches='tight')  # Save as PDF\n",
    "plt.savefig('Sa_Ratio_vs_Periods.png', dpi=300, bbox_inches='tight')  # Save as PNG\n",
    "\n",
    "plt.show()  # Display the plot"
   ]
  }
 ],
 "metadata": {
  "colab": {
   "provenance": []
  },
  "kernelspec": {
   "display_name": "Python 3",
   "language": "python",
   "name": "python3"
  },
  "language_info": {
   "codemirror_mode": {
    "name": "ipython",
    "version": 3
   },
   "file_extension": ".py",
   "mimetype": "text/x-python",
   "name": "python",
   "nbconvert_exporter": "python",
   "pygments_lexer": "ipython3",
   "version": "3.13.0"
  }
 },
 "nbformat": 4,
 "nbformat_minor": 0
}
